{
 "cells": [
  {
   "cell_type": "code",
   "execution_count": 1,
   "metadata": {},
   "outputs": [],
   "source": [
    "import numpy as np\n",
    "import scipy.misc\n",
    "import cv2\n",
    "import matplotlib.pyplot as plt\n",
    "from scipy.ndimage import zoom\n",
    "import scipy.misc\n",
    "import os\n",
    "import warnings\n",
    "warnings.filterwarnings(\"ignore\")"
   ]
  },
  {
   "cell_type": "code",
   "execution_count": 2,
   "metadata": {},
   "outputs": [],
   "source": [
    "cascPath = \"haarcascade_frontalface_default.xml\"\n",
    "# Create the haar cascade\n",
    "faceCascade = cv2.CascadeClassifier(cascPath)\n"
   ]
  },
  {
   "cell_type": "code",
   "execution_count": 89,
   "metadata": {},
   "outputs": [],
   "source": [
    "## read the dataset\n",
    "full_face = []\n",
    "full_labels = []\n",
    "all_images = os.listdir('yalefaces')\n",
    "for j in range(1,16):    # there are 15 different people in the dataset\n",
    "    img_list = [filename for filename in all_images if filename.startswith('subject%.2d'%j)]\n",
    "#     img_list = glob.glob('yalefaces/subject%.2d*'%j)\n",
    "    face1 = np.zeros((len(img_list),64,64))\n",
    "    for k,img in enumerate(img_list):\n",
    "        I = scipy.misc.imread(os.path.join('yalefaces',img))\n",
    "        #print(type(I))\n",
    "        I = cv2.fastNlMeansDenoising(I, None, 9, 13)\n",
    "        I = cv2.GaussianBlur(I, (5,5), 0)\n",
    "        I = cv2.equalizeHist(I)\n",
    "        faces = faceCascade.detectMultiScale(\n",
    "            I,\n",
    "            scaleFactor=1.1,\n",
    "            minNeighbors=5,\n",
    "            minSize=(30, 30))\n",
    "        x,y,h,w = faces[0]\n",
    "        face1[k,...] = zoom(I[y:y+h,x:x+w],[64./h,64./w])\n",
    "        \n",
    "    labels = (j-1)*np.ones((11,))\n",
    "    full_face.append(face1)\n",
    "    full_labels.append(labels)\n",
    "full_face = np.stack(full_face)    # contains the images of all faces\n",
    "full_labels = np.stack(full_labels)   # contains the ID of all the faces\n",
    "full_face = np.stack(full_face)    # contains the images of all faces\n",
    "full_labels = np.stack(full_labels)   # contains the ID of all the faces"
   ]
  },
  {
   "cell_type": "code",
   "execution_count": 90,
   "metadata": {},
   "outputs": [
    {
     "name": "stdout",
     "output_type": "stream",
     "text": [
      "(15, 11, 64, 64)\n"
     ]
    },
    {
     "data": {
      "text/plain": [
       "(15, 11)"
      ]
     },
     "execution_count": 90,
     "metadata": {},
     "output_type": "execute_result"
    }
   ],
   "source": [
    "print(full_face.shape)\n",
    "full_labels.shape"
   ]
  },
  {
   "cell_type": "code",
   "execution_count": 91,
   "metadata": {},
   "outputs": [],
   "source": [
    "full_face = full_face/255.0 #normalise data"
   ]
  },
  {
   "cell_type": "code",
   "execution_count": 92,
   "metadata": {},
   "outputs": [],
   "source": [
    "# divide the data into train and test\n",
    "# pick 2 images from each dataset and put it into test set\n",
    "train_set = np.zeros((full_face.shape[0],9,64,64))\n",
    "test_set = np.zeros((full_face.shape[0],2,64,64))\n",
    "train_labels = np.zeros((full_face.shape[0],9))\n",
    "test_labels = np.zeros((full_face.shape[0],2))\n",
    "for k in range(full_face.shape[0]):\n",
    "    g = np.random.permutation(10)   # randomly select the 9 faces\n",
    "    train_set[k,...] = full_face[k,g[:9],...]\n",
    "    train_labels[k,...] = full_labels[k,g[:9]]\n",
    "    test_set = full_face[:,g[9:],...]\n",
    "    test_labels[k,...] = full_labels[k,g[9:]]"
   ]
  },
  {
   "cell_type": "code",
   "execution_count": 93,
   "metadata": {},
   "outputs": [
    {
     "name": "stdout",
     "output_type": "stream",
     "text": [
      "255.0\n"
     ]
    }
   ],
   "source": [
    "from skimage.feature import local_binary_pattern\n",
    "train_set = np.reshape(train_set,[-1,64,64])\n",
    "train_labels = np.reshape(train_labels,[-1,])\n",
    "test_set = np.reshape(test_set,[-1,64,64])\n",
    "test_labels = np.reshape(test_labels,[-1,])\n",
    "train_feat = np.zeros_like(train_set)\n",
    "test_feat = np.zeros_like(test_set)\n",
    "\n",
    "for k in range(train_feat.shape[0]):\n",
    "        train_feat[k,...] = local_binary_pattern(train_set[k,...],8,3)#,method='uniform')\n",
    "for k in range(test_feat.shape[0]):\n",
    "        test_feat[k,...] = local_binary_pattern(test_set[k,...],8,3)#,method='uniform')\n",
    "print(np.amax(test_feat))"
   ]
  },
  {
   "cell_type": "code",
   "execution_count": 94,
   "metadata": {},
   "outputs": [
    {
     "name": "stdout",
     "output_type": "stream",
     "text": [
      "(135, 3136)\n",
      "(15, 3136)\n"
     ]
    }
   ],
   "source": [
    "# set the number of grids in x and y direction\n",
    "# divide the image into the specified number of grids\n",
    "# for each grid compute the histogram with 64 bins\n",
    "# concatenate the histogram from all grid regions to form a single feature\n",
    "# now we have one feature vector per image\n",
    "# Note that grid size and histogram bin sizes are variable\n",
    "x_grid = 7\n",
    "y_grid = 7\n",
    "grid_size_x = train_feat.shape[1]//x_grid\n",
    "grid_size_y = train_feat.shape[2]//y_grid\n",
    "for k in range(train_feat.shape[0]):\n",
    "    for x in range(x_grid):\n",
    "        for y in range(y_grid):\n",
    "            patch = train_feat[k,x*grid_size_x:(x+1)*grid_size_x,y*grid_size_y:(y+1)*grid_size_y]\n",
    "            hist,_ = np.histogram(patch.reshape(-1),bins=64)\n",
    "            if x==0 and y==0:\n",
    "                patch_hist_list = hist\n",
    "            else:\n",
    "                patch_hist_list = np.concatenate([patch_hist_list,hist],0)\n",
    "    if k==0:\n",
    "        data_hist = patch_hist_list[np.newaxis,...]\n",
    "    else:\n",
    "        data_hist = np.concatenate([data_hist,patch_hist_list[np.newaxis,...]],0)\n",
    "print(data_hist.shape)\n",
    "\n",
    "grid_size_x = test_feat.shape[1]//x_grid\n",
    "grid_size_y = test_feat.shape[2]//y_grid\n",
    "\n",
    "for k in range(test_feat.shape[0]):\n",
    "    for x in range(x_grid):\n",
    "        for y in range(y_grid):\n",
    "            patch = test_feat[k,x*grid_size_x:(x+1)*grid_size_x,y*grid_size_y:(y+1)*grid_size_y]\n",
    "            hist,_ = np.histogram(patch.reshape(-1),bins=64)\n",
    "            if x==0 and y==0:\n",
    "                patch_hist_list = hist\n",
    "            else:\n",
    "                patch_hist_list = np.concatenate([patch_hist_list,hist],0)\n",
    "    if k==0:\n",
    "        test_data_hist = patch_hist_list[np.newaxis,...]\n",
    "    else:\n",
    "        test_data_hist = np.concatenate([test_data_hist,patch_hist_list[np.newaxis,...]],0)\n",
    "print(test_data_hist.shape)"
   ]
  },
  {
   "cell_type": "code",
   "execution_count": 95,
   "metadata": {},
   "outputs": [
    {
     "name": "stdout",
     "output_type": "stream",
     "text": [
      "(135, 3136) (15, 3136)\n"
     ]
    },
    {
     "data": {
      "text/plain": [
       "PCA(copy=True, iterated_power='auto', n_components=None, random_state=None,\n",
       "  svd_solver='auto', tol=0.0, whiten=True)"
      ]
     },
     "execution_count": 95,
     "metadata": {},
     "output_type": "execute_result"
    }
   ],
   "source": [
    "from sklearn.decomposition import PCA\n",
    "pca = PCA(whiten=True)\n",
    "train_feat = data_hist\n",
    "test_feat = test_data_hist\n",
    "print(train_feat.shape,test_feat.shape)\n",
    "pca.fit(train_feat)"
   ]
  },
  {
   "cell_type": "code",
   "execution_count": 96,
   "metadata": {},
   "outputs": [
    {
     "name": "stdout",
     "output_type": "stream",
     "text": [
      "120\n",
      "(135, 120)\n"
     ]
    }
   ],
   "source": [
    "# select number of components which explain 99% of the data variance\n",
    "n_components = np.argmin(np.cumsum(pca.explained_variance_ratio_)<=0.99)\n",
    "print(n_components)\n",
    "train_feat_pca = pca.transform(train_feat)\n",
    "train_feat_pca = train_feat_pca[:,:n_components]\n",
    "test_feat_pca = pca.transform(test_feat)\n",
    "test_feat_pca = test_feat_pca[:,:n_components]\n",
    "print(train_feat_pca.shape)"
   ]
  },
  {
   "cell_type": "code",
   "execution_count": 97,
   "metadata": {},
   "outputs": [
    {
     "name": "stdout",
     "output_type": "stream",
     "text": [
      "(9180, 2, 120)\n"
     ]
    }
   ],
   "source": [
    "import itertools\n",
    "img_pair = []\n",
    "img_full_pair = []\n",
    "label_pair = []\n",
    "for pair in itertools.combinations_with_replacement(range(train_feat_pca.shape[0]),2):\n",
    "    img_pair.append(train_feat_pca[pair,:])\n",
    "    img_full_pair.append(train_set[pair,:])\n",
    "    label_pair.append(train_labels[pair,])\n",
    "img_pair = np.stack(img_pair)\n",
    "img_full_pair = np.stack(img_full_pair)\n",
    "label_pair = np.stack(label_pair)\n",
    "label_pair = (label_pair[:,0] == label_pair[:,1])\n",
    "label_pair = label_pair*1\n",
    "print(img_pair.shape)"
   ]
  },
  {
   "cell_type": "code",
   "execution_count": 98,
   "metadata": {},
   "outputs": [],
   "source": [
    "test_img_pair = []\n",
    "test_label_pair = []\n",
    "for pair in itertools.combinations_with_replacement(range(test_feat.shape[0]),2):\n",
    "    test_img_pair.append(test_feat_pca[pair,...])\n",
    "    test_label_pair.append(test_labels[pair,])\n",
    "test_img_pair = np.stack(test_img_pair)\n",
    "test_label_pair = np.stack(test_label_pair)\n",
    "test_label_pair = (test_label_pair[:,0] == test_label_pair[:,1])\n",
    "test_label_pair = test_label_pair*1"
   ]
  },
  {
   "cell_type": "code",
   "execution_count": 99,
   "metadata": {},
   "outputs": [
    {
     "name": "stdout",
     "output_type": "stream",
     "text": [
      "(120, 120)\n"
     ]
    }
   ],
   "source": [
    "img_pair = np.abs(img_pair[:,0,...] - img_pair[:,1,...])\n",
    "test_img_pair = np.abs(test_img_pair[:,0,...] - test_img_pair[:,1,...])\n",
    "print(test_img_pair.shape)"
   ]
  },
  {
   "cell_type": "code",
   "execution_count": 100,
   "metadata": {},
   "outputs": [],
   "source": [
    "# shuffle the training data\n",
    "g = np.random.permutation(img_pair.shape[0])\n",
    "img_pair = img_pair[g,:]\n",
    "label_pair = label_pair[g,]\n",
    "\n",
    "\n"
   ]
  },
  {
   "cell_type": "code",
   "execution_count": 101,
   "metadata": {},
   "outputs": [
    {
     "data": {
      "text/plain": [
       "(9180, 120)"
      ]
     },
     "execution_count": 101,
     "metadata": {},
     "output_type": "execute_result"
    }
   ],
   "source": [
    "img_pair.shape"
   ]
  },
  {
   "cell_type": "code",
   "execution_count": 102,
   "metadata": {},
   "outputs": [
    {
     "data": {
      "text/plain": [
       "MLPClassifier(activation='tanh', alpha=1e-05, batch_size='auto', beta_1=0.9,\n",
       "       beta_2=0.999, early_stopping=False, epsilon=1e-08,\n",
       "       hidden_layer_sizes=(8, 10, 10, 10, 10, 10),\n",
       "       learning_rate='constant', learning_rate_init=0.001, max_iter=200,\n",
       "       momentum=0.9, nesterovs_momentum=True, power_t=0.5, random_state=1,\n",
       "       shuffle=True, solver='lbfgs', tol=0.0001, validation_fraction=0.1,\n",
       "       verbose=False, warm_start=False)"
      ]
     },
     "execution_count": 102,
     "metadata": {},
     "output_type": "execute_result"
    }
   ],
   "source": [
    "from sklearn.tree import DecisionTreeClassifier\n",
    "from sklearn.neural_network import MLPClassifier\n",
    "from sklearn.metrics import f1_score\n",
    "mlp = MLPClassifier(activation='tanh',solver='lbfgs', alpha=1e-5,hidden_layer_sizes=(8,10,10,10,10,10), random_state=1)\n",
    "mlp.fit(img_pair,label_pair)"
   ]
  },
  {
   "cell_type": "code",
   "execution_count": 104,
   "metadata": {},
   "outputs": [
    {
     "name": "stdout",
     "output_type": "stream",
     "text": [
      "Test Accuracy :  0.9416666666666667\n",
      "Train Accuracy :  0.9420479302832244\n",
      "Test F1 :  0.8108108108108109\n",
      "Train F1 :  0.3496332518337408\n"
     ]
    }
   ],
   "source": [
    "print('Test Accuracy : ',mlp.score(test_img_pair,test_label_pair))\n",
    "print('Train Accuracy : ',mlp.score(img_pair,label_pair))\n",
    "ypred=mlp.predict(test_img_pair)\n",
    "print('Test F1 : ',f1_score(y_pred=ypred,y_true=test_label_pair))\n",
    "ypred_train=mlp.predict(img_pair)\n",
    "print('Train F1 : ',f1_score(y_pred=ypred_train,y_true=label_pair))"
   ]
  },
  {
   "cell_type": "code",
   "execution_count": 105,
   "metadata": {},
   "outputs": [
    {
     "name": "stdout",
     "output_type": "stream",
     "text": [
      "Test Accuracy :  0.9416666666666667\n",
      "Train Accuracy :  1.0\n",
      "Test F1 :  0.8108108108108109\n",
      "Train F1 :  1.0\n"
     ]
    }
   ],
   "source": [
    "dt=DecisionTreeClassifier()\n",
    "dt.fit(img_pair,label_pair)\n",
    "print('Test Accuracy : ',dt.score(test_img_pair,test_label_pair))\n",
    "print('Train Accuracy : ',dt.score(img_pair,label_pair))\n",
    "ypred=dt.predict(test_img_pair)\n",
    "print('Test F1 : ',f1_score(y_pred=ypred,y_true=test_label_pair))\n",
    "ypred_train=dt.predict(img_pair)\n",
    "print('Train F1 : ',f1_score(y_pred=ypred_train,y_true=label_pair))"
   ]
  },
  {
   "cell_type": "code",
   "execution_count": 106,
   "metadata": {},
   "outputs": [
    {
     "name": "stdout",
     "output_type": "stream",
     "text": [
      "Test Accuracy :  0.9416666666666667\n",
      "Train Accuracy :  0.961764705882353\n",
      "Test F1 :  0.8108108108108109\n",
      "Train F1 :  0.6770929162833487\n"
     ]
    }
   ],
   "source": [
    "from sklearn.linear_model import LogisticRegression\n",
    "lr=LogisticRegression()\n",
    "lr.fit(img_pair,label_pair)\n",
    "print('Test Accuracy : ',lr.score(test_img_pair,test_label_pair))\n",
    "print('Train Accuracy : ',lr.score(img_pair,label_pair))\n",
    "ypred=lr.predict(test_img_pair)\n",
    "print('Test F1 : ',f1_score(y_pred=ypred,y_true=test_label_pair))\n",
    "ypred_train=lr.predict(img_pair)\n",
    "print('Train F1 : ',f1_score(y_pred=ypred_train,y_true=label_pair))"
   ]
  },
  {
   "cell_type": "code",
   "execution_count": 279,
   "metadata": {},
   "outputs": [
    {
     "name": "stdout",
     "output_type": "stream",
     "text": [
      "0.7424242424242424\n",
      "0.5641025641025641\n"
     ]
    }
   ],
   "source": [
    "from sklearn.svm import SVC\n",
    "svm=SVC(kernel='rbf')\n",
    "svm.fit(img_pair,label_pair)\n",
    "print(svm.score(test_img_pair,test_label_pair))\n",
    "ypred=svm.predict(test_img_pair)\n",
    "print(f1_score(y_pred=ypred,y_true=test_label_pair))"
   ]
  },
  {
   "cell_type": "code",
   "execution_count": 107,
   "metadata": {},
   "outputs": [
    {
     "name": "stdout",
     "output_type": "stream",
     "text": [
      "Test Accuracy :  0.9166666666666666\n",
      "Train Accuracy :  0.9564270152505446\n",
      "Test F1 :  0.761904761904762\n",
      "Train F1 :  0.6521739130434783\n"
     ]
    }
   ],
   "source": [
    "from sklearn.ensemble import AdaBoostClassifier\n",
    "ada=AdaBoostClassifier()\n",
    "ada.fit(img_pair,label_pair)\n",
    "print('Test Accuracy : ',ada.score(test_img_pair,test_label_pair))\n",
    "print('Train Accuracy : ',ada.score(img_pair,label_pair))\n",
    "ypred=ada.predict(test_img_pair)\n",
    "print('Test F1 : ',f1_score(y_pred=ypred,y_true=test_label_pair))\n",
    "ypred_train=ada.predict(img_pair)\n",
    "print('Train F1 : ',f1_score(y_pred=ypred_train,y_true=label_pair))"
   ]
  },
  {
   "cell_type": "code",
   "execution_count": 108,
   "metadata": {},
   "outputs": [
    {
     "name": "stdout",
     "output_type": "stream",
     "text": [
      "Test Accuracy :  0.9416666666666667\n",
      "Train Accuracy :  0.9974945533769063\n",
      "Test F1 :  0.8108108108108109\n",
      "Train F1 :  0.9826676714393369\n"
     ]
    }
   ],
   "source": [
    "from sklearn.ensemble import RandomForestClassifier\n",
    "rf=RandomForestClassifier(criterion='gini',n_estimators=20,max_features='sqrt')\n",
    "rf.fit(img_pair,label_pair)\n",
    "print('Test Accuracy : ',rf.score(test_img_pair,test_label_pair))\n",
    "print('Train Accuracy : ',rf.score(img_pair,label_pair))\n",
    "ypred=rf.predict(test_img_pair)\n",
    "print('Test F1 : ',f1_score(y_pred=ypred,y_true=test_label_pair))\n",
    "ypred_train=rf.predict(img_pair)\n",
    "print('Train F1 : ',f1_score(y_pred=ypred_train,y_true=label_pair))"
   ]
  },
  {
   "cell_type": "code",
   "execution_count": 281,
   "metadata": {},
   "outputs": [
    {
     "name": "stdout",
     "output_type": "stream",
     "text": [
      "0.9983349983349983\n"
     ]
    }
   ],
   "source": [
    "print(rf.score(img_pair,label_pair))"
   ]
  },
  {
   "cell_type": "code",
   "execution_count": 80,
   "metadata": {},
   "outputs": [
    {
     "name": "stdout",
     "output_type": "stream",
     "text": [
      "Test Accuracy :  0.9916666666666667\n",
      "Train Accuracy :  0.9534657836644591\n",
      "Test F1 :  0.967741935483871\n",
      "Train F1 :  0.5697959183673469\n"
     ]
    }
   ],
   "source": [
    "from sklearn.neighbors import KNeighborsClassifier\n",
    "knn=KNeighborsClassifier(n_neighbors=5)\n",
    "knn.fit(img_pair,label_pair)\n",
    "print('Test Accuracy : ',knn.score(test_img_pair,test_label_pair))\n",
    "print('Train Accuracy : ',knn.score(img_pair,label_pair))\n",
    "ypred=knn.predict(test_img_pair)\n",
    "print('Test F1 : ',f1_score(y_pred=ypred,y_true=test_label_pair))\n",
    "ypred_train=knn.predict(img_pair)\n",
    "print('Train F1 : ',f1_score(y_pred=ypred_train,y_true=label_pair))"
   ]
  },
  {
   "cell_type": "code",
   "execution_count": 109,
   "metadata": {},
   "outputs": [
    {
     "name": "stdout",
     "output_type": "stream",
     "text": [
      "Test Accuracy :  0.9416666666666667\n",
      "Train Accuracy :  0.9925925925925926\n",
      "Test F1 :  0.8205128205128205\n",
      "Train F1 :  0.9470404984423676\n"
     ]
    }
   ],
   "source": [
    "from sklearn.discriminant_analysis import QuadraticDiscriminantAnalysis\n",
    "qda=QuadraticDiscriminantAnalysis()\n",
    "qda.fit(img_pair,label_pair)\n",
    "print('Test Accuracy : ',qda.score(test_img_pair,test_label_pair))\n",
    "print('Train Accuracy : ',qda.score(img_pair,label_pair))\n",
    "ypred=qda.predict(test_img_pair)\n",
    "print('Test F1 : ',f1_score(y_pred=ypred,y_true=test_label_pair))\n",
    "ypred_train=qda.predict(img_pair)\n",
    "print('Train F1 : ',f1_score(y_pred=ypred_train,y_true=label_pair))"
   ]
  },
  {
   "cell_type": "code",
   "execution_count": 110,
   "metadata": {},
   "outputs": [
    {
     "name": "stdout",
     "output_type": "stream",
     "text": [
      "Test Accuracy :  0.9416666666666667\n",
      "Train Accuracy :  0.9925925925925926\n",
      "Test F1 :  0.8205128205128205\n",
      "Train F1 :  0.9470404984423676\n"
     ]
    }
   ],
   "source": [
    "from sklearn.discriminant_analysis import LinearDiscriminantAnalysis\n",
    "lda=QuadraticDiscriminantAnalysis()\n",
    "lda.fit(img_pair,label_pair)\n",
    "print('Test Accuracy : ',lda.score(test_img_pair,test_label_pair))\n",
    "print('Train Accuracy : ',lda.score(img_pair,label_pair))\n",
    "ypred=lda.predict(test_img_pair)\n",
    "print('Test F1 : ',f1_score(y_pred=ypred,y_true=test_label_pair))\n",
    "ypred_train=lda.predict(img_pair)\n",
    "print('Train F1 : ',f1_score(y_pred=ypred_train,y_true=label_pair))"
   ]
  },
  {
   "cell_type": "code",
   "execution_count": 282,
   "metadata": {},
   "outputs": [
    {
     "data": {
      "text/plain": [
       "array([1, 0, 0, 0, 0, 0, 0, 0, 0, 0, 0, 1, 0, 0, 0, 0, 0, 0, 0, 0, 0, 1,\n",
       "       0, 0, 0, 0, 0, 0, 0, 0, 1, 0, 0, 0, 0, 0, 0, 0, 1, 0, 0, 0, 0, 0,\n",
       "       0, 1, 0, 0, 0, 0, 0, 1, 0, 0, 0, 0, 1, 0, 0, 0, 1, 0, 0, 1, 0, 1])"
      ]
     },
     "execution_count": 282,
     "metadata": {},
     "output_type": "execute_result"
    }
   ],
   "source": [
    "pred"
   ]
  },
  {
   "cell_type": "markdown",
   "metadata": {},
   "source": [
    "## Validation"
   ]
  },
  {
   "cell_type": "code",
   "execution_count": 233,
   "metadata": {},
   "outputs": [],
   "source": [
    "## read the dataset\n",
    "full_val_face = []\n",
    "full_val_labels = []\n",
    "all_val_images = os.listdir('yalefaces')\n",
    "for j in range(11,16):    # there are 15 different people in the dataset\n",
    "    img_list = [filename for filename in all_val_images if filename.startswith('subject%.2d'%j)]\n",
    "#     img_list = glob.glob('yalefaces/subject%.2d*'%j)\n",
    "    face1 = np.zeros((len(img_list),64,64))\n",
    "    for k,img in enumerate(img_list):\n",
    "        I = scipy.misc.imread(os.path.join('yalefaces',img))\n",
    "        #print(type(I))\n",
    "        I = cv2.fastNlMeansDenoising(I, None, 9, 13)\n",
    "        I = cv2.GaussianBlur(I, (5,5), 0)\n",
    "        I = cv2.equalizeHist(I)\n",
    "        faces = faceCascade.detectMultiScale(\n",
    "            I,\n",
    "            scaleFactor=1.1,\n",
    "            minNeighbors=5,\n",
    "            minSize=(30, 30))\n",
    "        x,y,h,w = faces[0]\n",
    "        face1[k,...] = zoom(I[y:y+h,x:x+w],[64./h,64./w])\n",
    "        \n",
    "    labels = (j-1)*np.ones((11,))\n",
    "    full_val_face.append(face1)\n",
    "    full_val_labels.append(labels)\n",
    "full_val_face = np.stack(full_val_face)    # contains the images of all faces\n",
    "full_val_labels = np.stack(full_val_labels)   # contains the ID of all the faces\n",
    "full_val_face = np.stack(full_val_face)    # contains the images of all faces\n",
    "full_val_labels = np.stack(full_val_labels)   # contains the ID of all the faces"
   ]
  },
  {
   "cell_type": "code",
   "execution_count": 234,
   "metadata": {},
   "outputs": [
    {
     "name": "stdout",
     "output_type": "stream",
     "text": [
      "(5, 11, 64, 64)\n",
      "(5, 11)\n"
     ]
    }
   ],
   "source": [
    "print(full_val_face.shape)\n",
    "print(full_val_labels.shape)\n",
    "full_val_face = full_val_face/255 #normalise data"
   ]
  },
  {
   "cell_type": "code",
   "execution_count": 235,
   "metadata": {},
   "outputs": [],
   "source": [
    "# divide the data into train and test\n",
    "# pick 2 images from each dataset and put it into test set\n",
    "\n",
    "val_set = np.zeros((full_val_face.shape[0],11,64,64))\n",
    "\n",
    "val_labels = np.zeros((full_face.shape[0],11))\n",
    "for k in range(full_val_face.shape[0]):\n",
    "    g = np.random.permutation(11)   # randomly select the 9 faces\n",
    "    val_set = full_face[:,g,...]\n",
    "    val_labels[k,...] = full_labels[k,g]"
   ]
  },
  {
   "cell_type": "code",
   "execution_count": 236,
   "metadata": {},
   "outputs": [
    {
     "name": "stdout",
     "output_type": "stream",
     "text": [
      "255.0\n"
     ]
    }
   ],
   "source": [
    "val_set = np.reshape(val_set,[-1,64,64])\n",
    "val_labels = np.reshape(val_labels,[-1,])\n",
    "val_feat = np.zeros_like(test_set)\n",
    "\n",
    "for k in range(val_feat.shape[0]):\n",
    "        val_feat[k,...] = local_binary_pattern(val_set[k,...],8,3)#,method='uniform')\n",
    "print(np.amax(val_feat))"
   ]
  },
  {
   "cell_type": "code",
   "execution_count": 238,
   "metadata": {},
   "outputs": [
    {
     "name": "stdout",
     "output_type": "stream",
     "text": [
      "(20, 7350)\n"
     ]
    }
   ],
   "source": [
    "# set the number of grids in x and y direction\n",
    "# divide the image into the specified number of grids\n",
    "# for each grid compute the histogram with 64 bins\n",
    "# concatenate the histogram from all grid regions to form a single feature\n",
    "# now we have one feature vector per image\n",
    "# Note that grid size and histogram bin sizes are variable\n",
    "x_grid = 7\n",
    "y_grid = 7\n",
    "\n",
    "grid_size_x = val_feat.shape[1]//x_grid\n",
    "grid_size_y = val_feat.shape[2]//y_grid\n",
    "\n",
    "for k in range(val_feat.shape[0]):\n",
    "    for x in range(x_grid):\n",
    "        for y in range(y_grid):\n",
    "            patch = val_feat[k,x*grid_size_x:(x+1)*grid_size_x,y*grid_size_y:(y+1)*grid_size_y]\n",
    "            hist,_ = np.histogram(patch.reshape(-1),bins=150)\n",
    "            if x==0 and y==0:\n",
    "                patch_hist_list = hist\n",
    "            else:\n",
    "                patch_hist_list = np.concatenate([patch_hist_list,hist],0)\n",
    "    if k==0:\n",
    "        val_data_hist = patch_hist_list[np.newaxis,...]\n",
    "    else:\n",
    "        val_data_hist = np.concatenate([val_data_hist,patch_hist_list[np.newaxis,...]],0)\n",
    "print(val_data_hist.shape)"
   ]
  },
  {
   "cell_type": "code",
   "execution_count": 239,
   "metadata": {},
   "outputs": [
    {
     "name": "stdout",
     "output_type": "stream",
     "text": [
      "(20, 80)\n"
     ]
    }
   ],
   "source": [
    "val_feat_pca = pca.transform(val_data_hist)\n",
    "val_feat_pca = val_feat_pca[:,:n_components]\n",
    "print(val_feat_pca.shape)"
   ]
  },
  {
   "cell_type": "code",
   "execution_count": 240,
   "metadata": {},
   "outputs": [],
   "source": [
    "val_img_pair = []\n",
    "val_label_pair = []\n",
    "for pair in itertools.combinations_with_replacement(range(val_feat.shape[0]),2):\n",
    "    val_img_pair.append(val_feat_pca[pair,...])\n",
    "    val_label_pair.append(val_labels[pair,])\n",
    "val_img_pair = np.stack(val_img_pair)\n",
    "val_label_pair = np.stack(val_label_pair)\n",
    "val_label_pair = (val_label_pair[:,0] == val_label_pair[:,1])\n",
    "val_label_pair = val_label_pair*1"
   ]
  },
  {
   "cell_type": "code",
   "execution_count": 241,
   "metadata": {},
   "outputs": [],
   "source": [
    "val_img_pair = np.abs(val_img_pair[:,0,...] - val_img_pair[:,1,...])"
   ]
  },
  {
   "cell_type": "code",
   "execution_count": 242,
   "metadata": {},
   "outputs": [
    {
     "name": "stdout",
     "output_type": "stream",
     "text": [
      "0.9523809523809523\n",
      "0.9532710280373833\n"
     ]
    }
   ],
   "source": [
    "print(dt.score(val_img_pair,val_label_pair))\n",
    "ypred=dt.predict(val_img_pair)\n",
    "print(f1_score(y_pred=ypred,y_true=val_label_pair))"
   ]
  },
  {
   "cell_type": "code",
   "execution_count": 243,
   "metadata": {},
   "outputs": [
    {
     "name": "stdout",
     "output_type": "stream",
     "text": [
      "0.9\n",
      "0.8965517241379309\n"
     ]
    }
   ],
   "source": [
    "print(rf.score(val_img_pair,val_label_pair))\n",
    "ypred=rf.predict(val_img_pair)\n",
    "print(f1_score(y_pred=ypred,y_true=val_label_pair))"
   ]
  },
  {
   "cell_type": "code",
   "execution_count": 244,
   "metadata": {},
   "outputs": [
    {
     "name": "stdout",
     "output_type": "stream",
     "text": [
      "0.8428571428571429\n",
      "0.835820895522388\n"
     ]
    }
   ],
   "source": [
    "print(svm.score(val_img_pair,val_label_pair))\n",
    "ypred=svm.predict(val_img_pair)\n",
    "print(f1_score(y_pred=ypred,y_true=val_label_pair))"
   ]
  },
  {
   "cell_type": "code",
   "execution_count": 245,
   "metadata": {},
   "outputs": [
    {
     "name": "stdout",
     "output_type": "stream",
     "text": [
      "0.8238095238095238\n",
      "0.8021390374331551\n"
     ]
    }
   ],
   "source": [
    "print(lr.score(val_img_pair,val_label_pair))\n",
    "ypred=lr.predict(val_img_pair)\n",
    "print(f1_score(y_pred=ypred,y_true=val_label_pair))"
   ]
  },
  {
   "cell_type": "code",
   "execution_count": 246,
   "metadata": {},
   "outputs": [
    {
     "name": "stdout",
     "output_type": "stream",
     "text": [
      "0.8238095238095238\n",
      "0.8\n"
     ]
    }
   ],
   "source": [
    "print(mlp.score(val_img_pair,val_label_pair))\n",
    "ypred=mlp.predict(val_img_pair)\n",
    "print(f1_score(y_pred=ypred,y_true=val_label_pair))"
   ]
  },
  {
   "cell_type": "markdown",
   "metadata": {},
   "source": [
    "## Testing"
   ]
  },
  {
   "cell_type": "markdown",
   "metadata": {},
   "source": [
    " "
   ]
  },
  {
   "cell_type": "code",
   "execution_count": 22,
   "metadata": {},
   "outputs": [],
   "source": [
    "import h5py"
   ]
  },
  {
   "cell_type": "code",
   "execution_count": 23,
   "metadata": {},
   "outputs": [],
   "source": [
    "h5f = h5py.File('test.h5','r')"
   ]
  },
  {
   "cell_type": "code",
   "execution_count": 24,
   "metadata": {},
   "outputs": [
    {
     "data": {
      "text/plain": [
       "KeysView(<HDF5 file \"test.h5\" (mode r)>)"
      ]
     },
     "execution_count": 24,
     "metadata": {},
     "output_type": "execute_result"
    }
   ],
   "source": [
    "h5f.keys()"
   ]
  },
  {
   "cell_type": "code",
   "execution_count": 64,
   "metadata": {},
   "outputs": [
    {
     "data": {
      "text/plain": [
       "120"
      ]
     },
     "execution_count": 64,
     "metadata": {},
     "output_type": "execute_result"
    }
   ],
   "source": [
    "a = list(h5f.keys())\n",
    "len(a)"
   ]
  },
  {
   "cell_type": "code",
   "execution_count": 111,
   "metadata": {
    "scrolled": false
   },
   "outputs": [],
   "source": [
    "## read the dataset\n",
    "full_face = []\n",
    "full_labels = []\n",
    "img_list=[h5f[i] for i in a]\n",
    "face1 = np.zeros((len(img_list),64,64))\n",
    "for k,img in enumerate(img_list):\n",
    "    I = np.array(img)#scipy.misc.imread(os.path.join('yalefaces',img))\n",
    "    #print(type(I))\n",
    "    I = cv2.fastNlMeansDenoising(I, None, 9, 13)\n",
    "    I = cv2.GaussianBlur(I, (5,5), 0)\n",
    "    I = cv2.equalizeHist(I)\n",
    "    faces = faceCascade.detectMultiScale(\n",
    "        I,\n",
    "        scaleFactor=1.1,\n",
    "        minNeighbors=5,\n",
    "        minSize=(30, 30))\n",
    "    #print(k)\n",
    "    #print(faces)\n",
    "    try : \n",
    "        x,y,h,w = faces[0]\n",
    "        face1[k,...] = zoom(I[y:y+h,x:x+w],[64./h,64./w])\n",
    "    except : \n",
    "        x,y,h,w=[0,0,111,91]\n",
    "        face1[k,...] = zoom(I[y:y+h,x:x+w],[64./h,64./w])\n",
    "    \n",
    "    \n"
   ]
  },
  {
   "cell_type": "code",
   "execution_count": 112,
   "metadata": {},
   "outputs": [],
   "source": [
    "face1=face1/255.0"
   ]
  },
  {
   "cell_type": "code",
   "execution_count": 113,
   "metadata": {},
   "outputs": [
    {
     "name": "stdout",
     "output_type": "stream",
     "text": [
      "255.0\n",
      "(120, 64, 64)\n"
     ]
    }
   ],
   "source": [
    "#LBP\n",
    "test_data=face1\n",
    "test_data_feat = np.zeros_like(test_data)\n",
    "\n",
    "for k in range(test_data_feat.shape[0]):\n",
    "        test_data_feat[k,...] = local_binary_pattern(test_data[k,...],8,3)#,method='uniform')\n",
    "print(np.amax(test_data_feat))\n",
    "print(test_data_feat.shape)"
   ]
  },
  {
   "cell_type": "code",
   "execution_count": 114,
   "metadata": {},
   "outputs": [
    {
     "name": "stdout",
     "output_type": "stream",
     "text": [
      "(120, 3136)\n"
     ]
    }
   ],
   "source": [
    "# set the number of grids in x and y direction\n",
    "# divide the image into the specified number of grids\n",
    "# for each grid compute the histogram with 64 bins\n",
    "# concatenate the histogram from all grid regions to form a single feature\n",
    "# now we have one feature vector per image\n",
    "# Note that grid size and histogram bin sizes are variable\n",
    "x_grid = 7\n",
    "y_grid = 7\n",
    "\n",
    "grid_size_x = test_data_feat.shape[1]//x_grid\n",
    "grid_size_y = test_data_feat.shape[2]//y_grid\n",
    "\n",
    "for k in range(test_data_feat.shape[0]):\n",
    "    for x in range(x_grid):\n",
    "        for y in range(y_grid):\n",
    "            patch = test_data_feat[k,x*grid_size_x:(x+1)*grid_size_x,y*grid_size_y:(y+1)*grid_size_y]\n",
    "            hist,_ = np.histogram(patch.reshape(-1),bins=64)\n",
    "            if x==0 and y==0:\n",
    "                patch_hist_list = hist\n",
    "            else:\n",
    "                patch_hist_list = np.concatenate([patch_hist_list,hist],0)\n",
    "    if k==0:\n",
    "        test_data_hist = patch_hist_list[np.newaxis,...]\n",
    "    else:\n",
    "        test_data_hist = np.concatenate([test_data_hist,patch_hist_list[np.newaxis,...]],0)\n",
    "print(test_data_hist.shape)"
   ]
  },
  {
   "cell_type": "code",
   "execution_count": 115,
   "metadata": {},
   "outputs": [
    {
     "name": "stdout",
     "output_type": "stream",
     "text": [
      "(120, 120)\n"
     ]
    }
   ],
   "source": [
    "test_feat_pca = pca.transform(test_data_hist)\n",
    "test_feat_pca = test_feat_pca[:,:n_components]\n",
    "print(test_feat_pca.shape)"
   ]
  },
  {
   "cell_type": "code",
   "execution_count": 116,
   "metadata": {},
   "outputs": [
    {
     "data": {
      "text/plain": [
       "(0, 155, 140)"
      ]
     },
     "execution_count": 116,
     "metadata": {},
     "output_type": "execute_result"
    }
   ],
   "source": [
    "test_pairs = np.genfromtxt('image_pairs.csv', dtype=None, delimiter=',', names=True)\n",
    "test_pairs[0]"
   ]
  },
  {
   "cell_type": "code",
   "execution_count": 117,
   "metadata": {
    "scrolled": true
   },
   "outputs": [],
   "source": [
    "ids=[]\n",
    "image1=[]\n",
    "image2=[]\n",
    "test_img_pairs=[]\n",
    "for i in range(len(test_pairs)) : \n",
    "    ids.append(test_pairs[i][0])\n",
    "    image1.append(test_pairs[i][1])\n",
    "    image2.append(test_pairs[i][2])\n",
    "    pair=(a.index(str(test_pairs[i][1])),a.index((str(test_pairs[i][2]))))\n",
    "    \n",
    "    test_img_pairs.append(test_feat_pca[pair,:])\n",
    "test_img_pairs = np.stack(test_img_pairs)"
   ]
  },
  {
   "cell_type": "code",
   "execution_count": 118,
   "metadata": {},
   "outputs": [],
   "source": [
    "test_img_pairs = np.abs(test_img_pairs[:,0,...] - test_img_pairs[:,1,...])"
   ]
  },
  {
   "cell_type": "code",
   "execution_count": 122,
   "metadata": {},
   "outputs": [],
   "source": [
    "pred=ada.predict(test_img_pairs)"
   ]
  },
  {
   "cell_type": "code",
   "execution_count": 123,
   "metadata": {},
   "outputs": [
    {
     "data": {
      "text/plain": [
       "(3540,)"
      ]
     },
     "execution_count": 123,
     "metadata": {},
     "output_type": "execute_result"
    }
   ],
   "source": [
    "pred.shape"
   ]
  },
  {
   "cell_type": "code",
   "execution_count": 124,
   "metadata": {
    "scrolled": false
   },
   "outputs": [],
   "source": [
    "with open('ada_yaleA_full_9_2.csv','w') as f : \n",
    "    f.write('Id,Expected\\n')\n",
    "    for i in range(len(test_pairs)) : \n",
    "        \n",
    "        f.write(str(ids[i])+','+str(pred[i])+'\\n')"
   ]
  },
  {
   "cell_type": "code",
   "execution_count": 95,
   "metadata": {
    "collapsed": true
   },
   "outputs": [],
   "source": [
    "test_data=h5f[a[22]]\n",
    "test_data=np.array(test_data)"
   ]
  },
  {
   "cell_type": "code",
   "execution_count": 96,
   "metadata": {},
   "outputs": [
    {
     "data": {
      "text/plain": [
       "<matplotlib.image.AxesImage at 0x7fbf8163fa90>"
      ]
     },
     "execution_count": 96,
     "metadata": {},
     "output_type": "execute_result"
    },
    {
     "data": {
      "image/png": "[encoded data removed]",
      "text/plain": [
       "<Figure size 432x288 with 1 Axes>"
      ]
     },
     "metadata": {},
     "output_type": "display_data"
    }
   ],
   "source": [
    "plt.imshow(test_data)"
   ]
  },
  {
   "cell_type": "code",
   "execution_count": 60,
   "metadata": {
    "collapsed": true
   },
   "outputs": [
    {
     "data": {
      "text/plain": [
       "'100'"
      ]
     },
     "execution_count": 60,
     "metadata": {},
     "output_type": "execute_result"
    }
   ],
   "source": [
    "a"
   ]
  },
  {
   "cell_type": "code",
   "execution_count": null,
   "metadata": {
    "collapsed": true
   },
   "outputs": [],
   "source": []
  }
 ],
 "metadata": {
  "kernelspec": {
   "display_name": "Python 3",
   "language": "python",
   "name": "python3"
  },
  "language_info": {
   "codemirror_mode": {
    "name": "ipython",
    "version": 3
   },
   "file_extension": ".py",
   "mimetype": "text/x-python",
   "name": "python",
   "nbconvert_exporter": "python",
   "pygments_lexer": "ipython3",
   "version": "3.6.5"
  }
 },
 "nbformat": 4,
 "nbformat_minor": 2
}
