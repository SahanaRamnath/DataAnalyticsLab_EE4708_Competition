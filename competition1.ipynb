{
 "cells": [
  {
   "cell_type": "code",
   "execution_count": 17,
   "metadata": {},
   "outputs": [],
   "source": [
    "import numpy as np\n",
    "import scipy.misc\n",
    "import cv2\n",
    "import matplotlib.pyplot as plt\n",
    "from scipy.ndimage import zoom\n",
    "import scipy.misc\n",
    "import os\n",
    "import warnings\n",
    "warnings.filterwarnings(\"ignore\")"
   ]
  },
  {
   "cell_type": "code",
   "execution_count": 18,
   "metadata": {},
   "outputs": [],
   "source": [
    "cascPath = \"haarcascade_frontalface_default.xml\"\n",
    "# Create the haar cascade\n",
    "faceCascade = cv2.CascadeClassifier(cascPath)\n"
   ]
  },
  {
   "cell_type": "code",
   "execution_count": 19,
   "metadata": {},
   "outputs": [],
   "source": [
    "## read the dataset\n",
    "full_face = []\n",
    "full_labels = []\n",
    "all_images = os.listdir('yalefaces')\n",
    "for j in range(1,11):    # there are 15 different people in the dataset\n",
    "    img_list = [filename for filename in all_images if filename.startswith('subject%.2d'%j)]\n",
    "#     img_list = glob.glob('yalefaces/subject%.2d*'%j)\n",
    "    face1 = np.zeros((len(img_list),64,64))\n",
    "    for k,img in enumerate(img_list):\n",
    "        I = scipy.misc.imread(os.path.join('yalefaces',img))\n",
    "        I = cv2.fastNlMeansDenoising(I, None, 9, 13)\n",
    "        I = cv2.GaussianBlur(I, (5,5), 0)\n",
    "        I = cv2.equalizeHist(I)\n",
    "        faces = faceCascade.detectMultiScale(\n",
    "            I,\n",
    "            scaleFactor=1.1,\n",
    "            minNeighbors=5,\n",
    "            minSize=(30, 30))\n",
    "        x,y,h,w = faces[0]\n",
    "        face1[k,...] = zoom(I[y:y+h,x:x+w],[64./h,64./w])\n",
    "        \n",
    "    labels = (j-1)*np.ones((11,))\n",
    "    full_face.append(face1)\n",
    "    full_labels.append(labels)\n",
    "full_face = np.stack(full_face)    # contains the images of all faces\n",
    "full_labels = np.stack(full_labels)   # contains the ID of all the faces\n",
    "full_face = np.stack(full_face)    # contains the images of all faces\n",
    "full_labels = np.stack(full_labels)   # contains the ID of all the faces"
   ]
  },
  {
   "cell_type": "code",
   "execution_count": 20,
   "metadata": {},
   "outputs": [],
   "source": [
    "full_face = full_face/255 #normalise data"
   ]
  },
  {
   "cell_type": "code",
   "execution_count": 21,
   "metadata": {},
   "outputs": [],
   "source": [
    "# divide the data into train and test\n",
    "# pick 2 images from each dataset and put it into test set\n",
    "train_set = np.zeros((full_face.shape[0],9,64,64))\n",
    "test_set = np.zeros((full_face.shape[0],2,64,64))\n",
    "train_labels = np.zeros((full_face.shape[0],9))\n",
    "test_labels = np.zeros((full_face.shape[0],2))\n",
    "for k in range(full_face.shape[0]):\n",
    "    g = np.random.permutation(11)   # randomly select the 9 faces\n",
    "    train_set[k,...] = full_face[k,g[:9],...]\n",
    "    train_labels[k,...] = full_labels[k,g[:9]]\n",
    "    test_set = full_face[:,g[9:],...]\n",
    "    test_labels[k,...] = full_labels[k,g[9:]]"
   ]
  },
  {
   "cell_type": "code",
   "execution_count": 22,
   "metadata": {},
   "outputs": [
    {
     "name": "stdout",
     "output_type": "stream",
     "text": [
      "255.0\n"
     ]
    }
   ],
   "source": [
    "from skimage.feature import local_binary_pattern\n",
    "train_set = np.reshape(train_set,[-1,64,64])\n",
    "train_labels = np.reshape(train_labels,[-1,])\n",
    "test_set = np.reshape(test_set,[-1,64,64])\n",
    "test_labels = np.reshape(test_labels,[-1,])\n",
    "train_feat = np.zeros_like(train_set)\n",
    "test_feat = np.zeros_like(test_set)\n",
    "\n",
    "for k in range(train_feat.shape[0]):\n",
    "        train_feat[k,...] = local_binary_pattern(train_set[k,...],8,3)#,method='uniform')\n",
    "for k in range(test_feat.shape[0]):\n",
    "        test_feat[k,...] = local_binary_pattern(test_set[k,...],8,3)#,method='uniform')\n",
    "print(np.amax(test_feat))"
   ]
  },
  {
   "cell_type": "code",
   "execution_count": 23,
   "metadata": {},
   "outputs": [
    {
     "name": "stdout",
     "output_type": "stream",
     "text": [
      "(90, 3136)\n",
      "(20, 3136)\n"
     ]
    }
   ],
   "source": [
    "# set the number of grids in x and y direction\n",
    "# divide the image into the specified number of grids\n",
    "# for each grid compute the histogram with 64 bins\n",
    "# concatenate the histogram from all grid regions to form a single feature\n",
    "# now we have one feature vector per image\n",
    "# Note that grid size and histogram bin sizes are variable\n",
    "x_grid = 7\n",
    "y_grid = 7\n",
    "grid_size_x = train_feat.shape[1]//x_grid\n",
    "grid_size_y = train_feat.shape[2]//y_grid\n",
    "for k in range(train_feat.shape[0]):\n",
    "    for x in range(x_grid):\n",
    "        for y in range(y_grid):\n",
    "            patch = train_feat[k,x*grid_size_x:(x+1)*grid_size_x,y*grid_size_y:(y+1)*grid_size_y]\n",
    "            hist,_ = np.histogram(patch.reshape(-1),bins=64)\n",
    "            if x==0 and y==0:\n",
    "                patch_hist_list = hist\n",
    "            else:\n",
    "                patch_hist_list = np.concatenate([patch_hist_list,hist],0)\n",
    "    if k==0:\n",
    "        data_hist = patch_hist_list[np.newaxis,...]\n",
    "    else:\n",
    "        data_hist = np.concatenate([data_hist,patch_hist_list[np.newaxis,...]],0)\n",
    "print(data_hist.shape)\n",
    "\n",
    "grid_size_x = test_feat.shape[1]//x_grid\n",
    "grid_size_y = test_feat.shape[2]//y_grid\n",
    "\n",
    "for k in range(test_feat.shape[0]):\n",
    "    for x in range(x_grid):\n",
    "        for y in range(y_grid):\n",
    "            patch = test_feat[k,x*grid_size_x:(x+1)*grid_size_x,y*grid_size_y:(y+1)*grid_size_y]\n",
    "            hist,_ = np.histogram(patch.reshape(-1),bins=64)\n",
    "            if x==0 and y==0:\n",
    "                patch_hist_list = hist\n",
    "            else:\n",
    "                patch_hist_list = np.concatenate([patch_hist_list,hist],0)\n",
    "    if k==0:\n",
    "        test_data_hist = patch_hist_list[np.newaxis,...]\n",
    "    else:\n",
    "        test_data_hist = np.concatenate([test_data_hist,patch_hist_list[np.newaxis,...]],0)\n",
    "print(test_data_hist.shape)"
   ]
  },
  {
   "cell_type": "code",
   "execution_count": 24,
   "metadata": {},
   "outputs": [
    {
     "name": "stdout",
     "output_type": "stream",
     "text": [
      "(90, 3136) (20, 3136)\n"
     ]
    },
    {
     "data": {
      "text/plain": [
       "PCA(copy=True, iterated_power='auto', n_components=None, random_state=None,\n",
       "  svd_solver='auto', tol=0.0, whiten=True)"
      ]
     },
     "execution_count": 24,
     "metadata": {},
     "output_type": "execute_result"
    }
   ],
   "source": [
    "from sklearn.decomposition import PCA\n",
    "pca = PCA(whiten=True)\n",
    "train_feat = data_hist\n",
    "test_feat = test_data_hist\n",
    "print(train_feat.shape,test_feat.shape)\n",
    "pca.fit(train_feat)"
   ]
  },
  {
   "cell_type": "code",
   "execution_count": 25,
   "metadata": {},
   "outputs": [
    {
     "name": "stdout",
     "output_type": "stream",
     "text": [
      "79\n",
      "(90, 79)\n"
     ]
    }
   ],
   "source": [
    "# select number of components which explain 99% of the data variance\n",
    "n_components = np.argmin(np.cumsum(pca.explained_variance_ratio_)<=0.99)\n",
    "print(n_components)\n",
    "train_feat_pca = pca.transform(train_feat)\n",
    "train_feat_pca = train_feat_pca[:,:n_components]\n",
    "test_feat_pca = pca.transform(test_feat)\n",
    "test_feat_pca = test_feat_pca[:,:n_components]\n",
    "print(train_feat_pca.shape)"
   ]
  },
  {
   "cell_type": "code",
   "execution_count": 26,
   "metadata": {},
   "outputs": [],
   "source": [
    "import itertools\n",
    "img_pair = []\n",
    "img_full_pair = []\n",
    "label_pair = []\n",
    "for pair in itertools.combinations_with_replacement(range(train_feat_pca.shape[0]),2):\n",
    "    img_pair.append(train_feat_pca[pair,:])\n",
    "    img_full_pair.append(train_set[pair,:])\n",
    "    label_pair.append(train_labels[pair,])\n",
    "img_pair = np.stack(img_pair)\n",
    "img_full_pair = np.stack(img_full_pair)\n",
    "label_pair = np.stack(label_pair)\n",
    "label_pair = (label_pair[:,0] == label_pair[:,1])\n",
    "label_pair = label_pair*1"
   ]
  },
  {
   "cell_type": "code",
   "execution_count": 27,
   "metadata": {},
   "outputs": [],
   "source": [
    "test_img_pair = []\n",
    "test_label_pair = []\n",
    "for pair in itertools.combinations_with_replacement(range(test_feat.shape[0]),2):\n",
    "    test_img_pair.append(test_feat_pca[pair,...])\n",
    "    test_label_pair.append(test_labels[pair,])\n",
    "test_img_pair = np.stack(test_img_pair)\n",
    "test_label_pair = np.stack(test_label_pair)\n",
    "test_label_pair = (test_label_pair[:,0] == test_label_pair[:,1])\n",
    "test_label_pair = test_label_pair*1"
   ]
  },
  {
   "cell_type": "code",
   "execution_count": 28,
   "metadata": {},
   "outputs": [],
   "source": [
    "img_pair = np.abs(img_pair[:,0,...] - img_pair[:,1,...])\n",
    "test_img_pair = np.abs(test_img_pair[:,0,...] - test_img_pair[:,1,...])"
   ]
  },
  {
   "cell_type": "code",
   "execution_count": 29,
   "metadata": {},
   "outputs": [],
   "source": [
    "# shuffle the training data\n",
    "g = np.random.permutation(img_pair.shape[0])\n",
    "img_pair = img_pair[g,:]\n",
    "label_pair = label_pair[g,]\n",
    "\n",
    "\n"
   ]
  },
  {
   "cell_type": "code",
   "execution_count": 43,
   "metadata": {},
   "outputs": [
    {
     "data": {
      "text/plain": [
       "MLPClassifier(activation='relu', alpha=1e-05, batch_size='auto', beta_1=0.9,\n",
       "       beta_2=0.999, early_stopping=False, epsilon=1e-08,\n",
       "       hidden_layer_sizes=(8, 10), learning_rate='constant',\n",
       "       learning_rate_init=0.001, max_iter=200, momentum=0.9,\n",
       "       nesterovs_momentum=True, power_t=0.5, random_state=1, shuffle=True,\n",
       "       solver='lbfgs', tol=0.0001, validation_fraction=0.1, verbose=False,\n",
       "       warm_start=False)"
      ]
     },
     "execution_count": 43,
     "metadata": {},
     "output_type": "execute_result"
    }
   ],
   "source": [
    "from sklearn.tree import DecisionTreeClassifier\n",
    "from sklearn.neural_network import MLPClassifier\n",
    "clf = MLPClassifier(solver='lbfgs', alpha=1e-5,hidden_layer_sizes=(8, 10), random_state=1)\n",
    "clf.fit(img_pair,label_pair)"
   ]
  },
  {
   "cell_type": "code",
   "execution_count": 44,
   "metadata": {},
   "outputs": [
    {
     "name": "stdout",
     "output_type": "stream",
     "text": [
      "0.9333333333333333\n"
     ]
    }
   ],
   "source": [
    "print(clf.score(test_img_pair,test_label_pair))"
   ]
  },
  {
   "cell_type": "code",
   "execution_count": 45,
   "metadata": {},
   "outputs": [
    {
     "name": "stdout",
     "output_type": "stream",
     "text": [
      "0.9619047619047619\n"
     ]
    }
   ],
   "source": [
    "clf=DecisionTreeClassifier()\n",
    "clf.fit(img_pair,label_pair)\n",
    "print(clf.score(test_img_pair,test_label_pair))"
   ]
  },
  {
   "cell_type": "code",
   "execution_count": 46,
   "metadata": {},
   "outputs": [
    {
     "name": "stdout",
     "output_type": "stream",
     "text": [
      "0.9476190476190476\n"
     ]
    }
   ],
   "source": [
    "from sklearn.linear_model import LogisticRegression\n",
    "clf=LogisticRegression()\n",
    "clf.fit(img_pair,label_pair)\n",
    "print(clf.score(test_img_pair,test_label_pair))"
   ]
  },
  {
   "cell_type": "code",
   "execution_count": 47,
   "metadata": {},
   "outputs": [
    {
     "name": "stdout",
     "output_type": "stream",
     "text": [
      "0.8904761904761904\n"
     ]
    }
   ],
   "source": [
    "from sklearn.svm import SVC\n",
    "clf=SVC(kernel='rbf')\n",
    "clf.fit(img_pair,label_pair)\n",
    "print(clf.score(test_img_pair,test_label_pair))"
   ]
  },
  {
   "cell_type": "code",
   "execution_count": 48,
   "metadata": {},
   "outputs": [
    {
     "name": "stdout",
     "output_type": "stream",
     "text": [
      "0.9761904761904762\n"
     ]
    }
   ],
   "source": [
    "from sklearn.ensemble import RandomForestClassifier\n",
    "clf=RandomForestClassifier()\n",
    "clf.fit(img_pair,label_pair)\n",
    "print(clf.score(test_img_pair,test_label_pair))"
   ]
  },
  {
   "cell_type": "code",
   "execution_count": null,
   "metadata": {},
   "outputs": [],
   "source": []
  }
 ],
 "metadata": {
  "kernelspec": {
   "display_name": "Python 3",
   "language": "python",
   "name": "python3"
  },
  "language_info": {
   "codemirror_mode": {
    "name": "ipython",
    "version": 3
   },
   "file_extension": ".py",
   "mimetype": "text/x-python",
   "name": "python",
   "nbconvert_exporter": "python",
   "pygments_lexer": "ipython3",
   "version": "3.6.5"
  }
 },
 "nbformat": 4,
 "nbformat_minor": 2
}
